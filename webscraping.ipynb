{
 "cells": [
  {
   "cell_type": "code",
   "execution_count": 1,
   "metadata": {},
   "outputs": [
    {
     "name": "stdout",
     "output_type": "stream",
     "text": [
      "Requirement already satisfied: requests in c:\\users\\hp\\anaconda3\\lib\\site-packages (2.21.0)\n",
      "Requirement already satisfied: certifi>=2017.4.17 in c:\\users\\hp\\anaconda3\\lib\\site-packages (from requests) (2019.3.9)\n",
      "Requirement already satisfied: chardet<3.1.0,>=3.0.2 in c:\\users\\hp\\anaconda3\\lib\\site-packages (from requests) (3.0.4)\n",
      "Requirement already satisfied: idna<2.9,>=2.5 in c:\\users\\hp\\anaconda3\\lib\\site-packages (from requests) (2.8)\n",
      "Requirement already satisfied: urllib3<1.25,>=1.21.1 in c:\\users\\hp\\anaconda3\\lib\\site-packages (from requests) (1.24.1)\n",
      "Note: you may need to restart the kernel to use updated packages.\n"
     ]
    }
   ],
   "source": [
    "pip install requests"
   ]
  },
  {
   "cell_type": "code",
   "execution_count": 1,
   "metadata": {},
   "outputs": [],
   "source": [
    "import requests"
   ]
  },
  {
   "cell_type": "code",
   "execution_count": 2,
   "metadata": {},
   "outputs": [],
   "source": [
    "r = requests.get('https://www.consumercomplaints.in/?search=reliance+jio+infocomm')"
   ]
  },
  {
   "cell_type": "code",
   "execution_count": 3,
   "metadata": {},
   "outputs": [
    {
     "name": "stdout",
     "output_type": "stream",
     "text": [
      "<!DOCTYPE html><html lang=\"en\"><head><title>reliance jio infocomm Consumer Complaints, Reviews and Information</title><meta name=\"viewport\" content=\"width=device-width, initial-scale=1\">\n",
      "<meta name=\"description\" content=\"Search consumer complaints, reviews and information about reliance jio infocomm.\" /><link rel=\"canonical\" href=\"/?search=reliance-jio-infocomm\" />\n",
      "<link rel=\"next\" href=\"/?search=reliance+jio+infocomm&page=2\" />\n",
      "<meta name=\"robots\" content=\"noindex, follow\" /><style id=fwplc>bod\n"
     ]
    }
   ],
   "source": [
    "print(r.text[0:500])"
   ]
  },
  {
   "cell_type": "code",
   "execution_count": 5,
   "metadata": {},
   "outputs": [],
   "source": [
    "from bs4 import BeautifulSoup"
   ]
  },
  {
   "cell_type": "code",
   "execution_count": 6,
   "metadata": {},
   "outputs": [],
   "source": [
    "soup = BeautifulSoup(r.text,'html.parser')"
   ]
  },
  {
   "cell_type": "code",
   "execution_count": 8,
   "metadata": {},
   "outputs": [],
   "source": [
    "result = soup.find_all('td',attrs={'class':'complaint'})"
   ]
  },
  {
   "cell_type": "code",
   "execution_count": 9,
   "metadata": {},
   "outputs": [
    {
     "data": {
      "text/plain": [
       "[<td class=\"complaint\" width=\"80\"><div class=\"bname_fp_logo\" onclick=\"/reliance-jio-infocomm-b115543\" style=\"background-image:url('/thumb.php?bname=1&amp;src=reliance-jio-infocomm.png&amp;wmax=60&amp;hmax=60&amp;quality=90&amp;crop=1')\" title=\"Reliance Jio Infocomm Customer Care Service\"></div></td>,\n",
       " <td class=\"complaint\"><a href=\"/reliance-jio-infocomm-b115543\"><span style=\"background-color:yellow\">Reliance Jio Infocomm</span></a></td>,\n",
       " <td class=\"complaint\"><a href=\"/reliance-jio-infocomm-ltd-jorhat-lyf-handset-motherboard-to-be-changed-c2133537\"><b><span style=\"background-color:yellow\">Reliance Jio Infocomm</span> Ltd. Jorhat</b> — lyf handset motherboard to be changed</a><span class=\"compl-text\"> (complaint)</span></td>]"
      ]
     },
     "execution_count": 9,
     "metadata": {},
     "output_type": "execute_result"
    }
   ],
   "source": [
    "result[0:3]"
   ]
  },
  {
   "cell_type": "code",
   "execution_count": 10,
   "metadata": {},
   "outputs": [
    {
     "data": {
      "text/plain": [
       "27"
      ]
     },
     "execution_count": 10,
     "metadata": {},
     "output_type": "execute_result"
    }
   ],
   "source": [
    "len(result)"
   ]
  },
  {
   "cell_type": "code",
   "execution_count": 11,
   "metadata": {},
   "outputs": [
    {
     "data": {
      "text/plain": [
       "<td class=\"complaint\"><div style=\"float:right;margin-top:5px;\"><a href=\"/reliance-jio-infocomm-b115543\"><img .=\"\" alt=\"Verified\" onmouseout=\"jQuery('#c .verified').hide();\" onmouseover=\"jQuery('#c .verified').show();\" src=\"/img/green-check.png\"/></a><div class=\"verified\" style=\"position:absolute;width:200px;margin:3px 0 0 -190px;background-color:#e6f2da;border:1px.\n",
       "                    solid #cde5b4;padding:5px;display:none;color:#999999;text-align:center;\"><div style=\"padding-bottom:8px;\">Verified Company</div><br/>Customer Care Service available </div></div><a href=\"/reliance-jio-infocomm-stop-to-installation-of-mobile-tower-c2348470\"><b><span style=\"background-color:yellow\">Reliance Jio Infocomm</span></b> — stop to installation of mobile tower</a><span class=\"compl-text\"> (complaint)</span></td>"
      ]
     },
     "execution_count": 11,
     "metadata": {},
     "output_type": "execute_result"
    }
   ],
   "source": [
    "result[15]"
   ]
  },
  {
   "cell_type": "code",
   "execution_count": 20,
   "metadata": {},
   "outputs": [],
   "source": [
    "result1 = result[15]"
   ]
  },
  {
   "cell_type": "code",
   "execution_count": 23,
   "metadata": {},
   "outputs": [
    {
     "data": {
      "text/plain": [
       "[<a href=\"/reliance-jio-infocomm-b115543\"><img .=\"\" alt=\"Verified\" onmouseout=\"jQuery('#c .verified').hide();\" onmouseover=\"jQuery('#c .verified').show();\" src=\"/img/green-check.png\"/></a>,\n",
       " <a href=\"/reliance-jio-infocomm-stop-to-installation-of-mobile-tower-c2348470\"><b><span style=\"background-color:yellow\">Reliance Jio Infocomm</span></b> — stop to installation of mobile tower</a>]"
      ]
     },
     "execution_count": 23,
     "metadata": {},
     "output_type": "execute_result"
    }
   ],
   "source": [
    "result1.find_all('a')"
   ]
  },
  {
   "cell_type": "code",
   "execution_count": 24,
   "metadata": {},
   "outputs": [],
   "source": [
    "new_result = []\n",
    "\n",
    "for i in result:\n",
    "    new_result.append(i.find_all('a'))\n",
    "    \n",
    "    "
   ]
  },
  {
   "cell_type": "code",
   "execution_count": 25,
   "metadata": {},
   "outputs": [
    {
     "data": {
      "text/plain": [
       "27"
      ]
     },
     "execution_count": 25,
     "metadata": {},
     "output_type": "execute_result"
    }
   ],
   "source": [
    "len(new_result)"
   ]
  },
  {
   "cell_type": "code",
   "execution_count": 26,
   "metadata": {},
   "outputs": [
    {
     "data": {
      "text/plain": [
       "[<a href=\"/trai-b106104\"><img .=\"\" alt=\"Verified\" onmouseout=\"jQuery('#c .verified').hide();\" onmouseover=\"jQuery('#c .verified').show();\" src=\"/img/green-check.png\"/></a>,\n",
       " <a href=\"/trai-reliance-jio-infocomm-not-helping-on-my-mobile-number-sudden-disconnection-without-any-consent-or-prior-notice-c2229979\"><b>Trai</b> — <span style=\"background-color:yellow\">reliance jio infocomm</span> not helping on my mobile number sudden disconnection without any consent or prior notice</a>]"
      ]
     },
     "execution_count": 26,
     "metadata": {},
     "output_type": "execute_result"
    }
   ],
   "source": [
    "new_result[5]"
   ]
  },
  {
   "cell_type": "code",
   "execution_count": 30,
   "metadata": {},
   "outputs": [
    {
     "data": {
      "text/plain": [
       "<a href=\"/reliance-jio-infocomm-stop-to-installation-of-mobile-tower-c2348470\"><b><span style=\"background-color:yellow\">Reliance Jio Infocomm</span></b> — stop to installation of mobile tower</a>"
      ]
     },
     "execution_count": 30,
     "metadata": {},
     "output_type": "execute_result"
    }
   ],
   "source": [
    "result1.contents[1]"
   ]
  },
  {
   "cell_type": "code",
   "execution_count": 32,
   "metadata": {},
   "outputs": [
    {
     "data": {
      "text/plain": [
       "<a href=\"/jio-money-deducted-but-recharge-not-received-c2345207\"><b><span style=\"background-color:yellow\">Jio</span></b> — money deducted but recharge not received</a>"
      ]
     },
     "execution_count": 32,
     "metadata": {},
     "output_type": "execute_result"
    }
   ],
   "source": [
    "result[21].contents[1]"
   ]
  },
  {
   "cell_type": "code",
   "execution_count": 58,
   "metadata": {},
   "outputs": [],
   "source": [
    "new_result = []\n",
    "for i in result:\n",
    "    if(len(i.contents)==1):\n",
    "        continue\n",
    "    elif(len(i.contents)==2):\n",
    "        new_result.append(str(i.contents[0].contents[1]))\n",
    "    else:\n",
    "        new_result.append(str(i.contents[1].contents[1]))\n",
    "        \n"
   ]
  },
  {
   "cell_type": "code",
   "execution_count": 59,
   "metadata": {},
   "outputs": [
    {
     "data": {
      "text/plain": [
       "25"
      ]
     },
     "execution_count": 59,
     "metadata": {},
     "output_type": "execute_result"
    }
   ],
   "source": [
    "len(new_result)"
   ]
  },
  {
   "cell_type": "code",
   "execution_count": 61,
   "metadata": {},
   "outputs": [
    {
     "data": {
      "text/plain": [
       "[' — lyf handset motherboard to be changed',\n",
       " ' — complaint against bp-jitter of ',\n",
       " ' — complaint against bp-jitter of ',\n",
       " ' — ',\n",
       " ' — ',\n",
       " ' — One phase missing at ',\n",
       " ' — ',\n",
       " ' — I am complaining about my ',\n",
       " ' — slow internet speed and poor quality voice calls!!',\n",
       " ' — speed less than 2g but takes money under name of 4g',\n",
       " ' — signal too weak not function well',\n",
       " ' — amount successfully deducted from phonepe but ',\n",
       " ' — network issue',\n",
       " ' — stop to installation of mobile tower',\n",
       " ' — ',\n",
       " ' — transaction was successful but recharge is failed',\n",
       " ' — prepaid network service',\n",
       " ' — data booster pack not activated',\n",
       " ' — rs 1699/-recharged on2.5.19',\n",
       " ' — money deducted but recharge not received',\n",
       " ' — regarding refund of security and membership fees',\n",
       " ' — in my absence from home they fixed their apparatus which is an illegal activity in an offence.',\n",
       " ' — portability not done',\n",
       " ' — facing slow internet connection.',\n",
       " ' — weak network service']"
      ]
     },
     "execution_count": 61,
     "metadata": {},
     "output_type": "execute_result"
    }
   ],
   "source": [
    "new_result"
   ]
  },
  {
   "cell_type": "code",
   "execution_count": 69,
   "metadata": {},
   "outputs": [
    {
     "data": {
      "text/plain": [
       "3700"
      ]
     },
     "execution_count": 69,
     "metadata": {},
     "output_type": "execute_result"
    }
   ],
   "source": [
    "new_result = []\n",
    "\n",
    "for j in range(2,150):\n",
    "    r = requests.get('https://www.consumercomplaints.in/?search=reliance+jio+infocomm&sort-type=relevance&page={}'.format(j))\n",
    "    soup = BeautifulSoup(r.text,'html.parser')\n",
    "    result = soup.find_all('td',attrs={'class':'complaint'})\n",
    "    for i in result:\n",
    "        if(len(i.contents)==1):\n",
    "            continue\n",
    "        elif(len(i.contents)==2):\n",
    "            new_result.append(str(i.contents[0].contents[1]))\n",
    "        else:\n",
    "            new_result.append(str(i.contents[1].contents[1]))\n",
    "        \n",
    "        \n",
    "len(new_result)"
   ]
  },
  {
   "cell_type": "code",
   "execution_count": 71,
   "metadata": {},
   "outputs": [
    {
     "data": {
      "text/plain": [
       "[' — not able to use internet after number portability',\n",
       " ' — I initiated the process of installing tower from 02.08.2017',\n",
       " ' — ',\n",
       " ' — I am complaining about fraud calls for jobs',\n",
       " ' — experienced worst service ever',\n",
       " ' — about call mute complain & ',\n",
       " ' — cancellation of recharge',\n",
       " ' — invoice not received of jifi2s & sim',\n",
       " ' — network very bad',\n",
       " ' — ',\n",
       " ' — wrongly billed',\n",
       " ' — cash back offer & double data offer against redmi note 5 mobile',\n",
       " ' — recharging',\n",
       " ' — account suspended without providing the due date',\n",
       " ' — no connectivity in tamilnadu and kerala no service',\n",
       " ' — regarding network problem',\n",
       " ' — my telephone number [protected]',\n",
       " ' — refund not received yet',\n",
       " ' — new ',\n",
       " ' — abusive calls',\n",
       " ' — internet speed too low',\n",
       " ' — disconnection of my personal mobile number [protected] without any background verification',\n",
       " ' — unauthorised billing done and number assigned in my name.',\n",
       " ' — internet speed is very slow',\n",
       " ' — ',\n",
       " ' — fraud call received from ',\n",
       " ' — do not give offer benefits',\n",
       " ' — regarding work from home',\n",
       " ' — activation of connection',\n",
       " ' — add-on misguided information',\n",
       " ' — unsolicited call from [protected] and was abusing over message',\n",
       " ' — ',\n",
       " ' — worst care of customers',\n",
       " ' — pathetic internet and voice service received by ',\n",
       " ' — international roaming never worked',\n",
       " ' — billed even after no postpaid services were chosen',\n",
       " ' — another person having same number',\n",
       " ' — my ',\n",
       " ' — not giving 20% more data as its website promises',\n",
       " ' — irresponsible answer',\n",
       " ' — mobile hotspot prepaid',\n",
       " ' — security deposit not refunded even after 7 months',\n",
       " ' — bad/ horrible network',\n",
       " ' — no one received my call at ',\n",
       " ' — non issue of policy',\n",
       " ' — about the ',\n",
       " ' — given internet speed problem is not solved',\n",
       " ' — recharged 399 ',\n",
       " ' — ',\n",
       " ' — abusing language used bu your representative mr. deva to me on 31/03/2018 at 5.28 pm to my mobile no - [protected] and it recroded in my phone']"
      ]
     },
     "execution_count": 71,
     "metadata": {},
     "output_type": "execute_result"
    }
   ],
   "source": []
  },
  {
   "cell_type": "code",
   "execution_count": 72,
   "metadata": {},
   "outputs": [],
   "source": [
    "file = open('E:\\Anaconda\\data.txt','w')"
   ]
  },
  {
   "cell_type": "code",
   "execution_count": 73,
   "metadata": {},
   "outputs": [],
   "source": [
    "for i in new_result:\n",
    "    file.write(i)\n"
   ]
  },
  {
   "cell_type": "code",
   "execution_count": 74,
   "metadata": {},
   "outputs": [],
   "source": [
    "file.close()"
   ]
  },
  {
   "cell_type": "code",
   "execution_count": null,
   "metadata": {},
   "outputs": [],
   "source": []
  }
 ],
 "metadata": {
  "kernelspec": {
   "display_name": "Python 3",
   "language": "python",
   "name": "python3"
  },
  "language_info": {
   "codemirror_mode": {
    "name": "ipython",
    "version": 3
   },
   "file_extension": ".py",
   "mimetype": "text/x-python",
   "name": "python",
   "nbconvert_exporter": "python",
   "pygments_lexer": "ipython3",
   "version": "3.7.3"
  }
 },
 "nbformat": 4,
 "nbformat_minor": 2
}
